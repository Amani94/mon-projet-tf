{
 "cells": [
  {
   "cell_type": "code",
   "execution_count": 23,
   "id": "08fee090-e0c6-4e06-85ac-f2502291ac8a",
   "metadata": {},
   "outputs": [],
   "source": [
    "import tensorflow as tf\n",
    "\n",
    "# Instantiate the dataset API\n",
    "fmnist = tf.keras.datasets.fashion_mnist\n",
    "\n",
    "# Load the dataset\n",
    "(x_train, y_train), (x_test, y_test) = fmnist.load_data()\n",
    "\n",
    "# Normalize the pixel values\n",
    "x_train, x_test = x_train / 255.0, x_test / 255.0"
   ]
  },
  {
   "cell_type": "code",
   "execution_count": 54,
   "id": "82ef14f6-7d27-413a-8083-9d9fa7e70a0a",
   "metadata": {},
   "outputs": [],
   "source": [
    "class myCallback(tf.keras.callbacks.Callback):\n",
    "    def on_epoch_end(self, epoch, logs=None):\n",
    "        '''\n",
    "        Halts the training when the loss falls below 0.4\n",
    "\n",
    "        Args:\n",
    "            epoch (integer) - index of epoch (required but unused in the function definition below)\n",
    "            logs (dict) - metric results from the training epoch\n",
    "        '''\n",
    "\n",
    "        # Check the loss\n",
    "        #if logs['loss'] < 0.4:\n",
    "        if logs['accuracy']  >0.6:\n",
    "\n",
    "            # Stop if threshold is met\n",
    "            # print(\"\\nLoss is lower than 0.4 so cancelling training!\")\n",
    "            # print('\\nLoss is lower than 0.4 so cancelling training!')\n",
    "            print('\\nLoss is higher than 0.6 % so cancelling training!')\n",
    "            #print(\"\\nAccuracy is higher than 0.6 so cancelling training!\")\n",
    "            #print(f'\\nEpoch {epoch+1}: Accuracy is higher than 0.6 ({logs['accuracy']:.2f}), stopping training!', flush=True)\n",
    "            self.model.stop_training = True"
   ]
  },
  {
   "cell_type": "code",
   "execution_count": 55,
   "id": "4f8e3de9-06e5-4556-a48f-8651d12015b9",
   "metadata": {},
   "outputs": [],
   "source": [
    "# Define the model\n",
    "model = tf.keras.models.Sequential([\n",
    "    tf.keras.Input(shape=(28,28)),\n",
    "    tf.keras.layers.Flatten(),\n",
    "    tf.keras.layers.Dense(512, activation=tf.nn.relu),\n",
    "    tf.keras.layers.Dense(10, activation=tf.nn.softmax)\n",
    "])\n",
    "\n",
    "# Compile the model\n",
    "model.compile(optimizer=tf.optimizers.Adam(),\n",
    "              loss='sparse_categorical_crossentropy',\n",
    "              metrics=['accuracy'])"
   ]
  },
  {
   "cell_type": "code",
   "execution_count": 56,
   "id": "4d962836-b266-4f59-b65e-6ef7620dafea",
   "metadata": {},
   "outputs": [
    {
     "name": "stdout",
     "output_type": "stream",
     "text": [
      "Epoch 1/10\n",
      "\u001b[1m1872/1875\u001b[0m \u001b[32m━━━━━━━━━━━━━━━━━━━\u001b[0m\u001b[37m━\u001b[0m \u001b[1m0s\u001b[0m 3ms/step - accuracy: 0.7948 - loss: 0.5881\n",
      "Loss is higher than 0.6 % so cancelling training!\n",
      "\u001b[1m1875/1875\u001b[0m \u001b[32m━━━━━━━━━━━━━━━━━━━━\u001b[0m\u001b[37m\u001b[0m \u001b[1m6s\u001b[0m 3ms/step - accuracy: 0.8315 - loss: 0.4736\n"
     ]
    },
    {
     "data": {
      "text/plain": [
       "<keras.src.callbacks.history.History at 0x1c521823a50>"
      ]
     },
     "execution_count": 56,
     "metadata": {},
     "output_type": "execute_result"
    }
   ],
   "source": [
    "# Train the model with a callback\n",
    "model.fit(x_train, y_train, epochs=10, callbacks=[myCallback()])"
   ]
  },
  {
   "cell_type": "code",
   "execution_count": 35,
   "id": "82fdef08-01c4-4c8b-9145-55d23f95ca46",
   "metadata": {},
   "outputs": [
    {
     "name": "stdout",
     "output_type": "stream",
     "text": [
      "\n",
      "Loss is lower than 0.4 so cancelling training!\n"
     ]
    }
   ],
   "source": [
    "print(\"\\nLoss is lower than 0.4 so cancelling training!\")"
   ]
  },
  {
   "cell_type": "code",
   "execution_count": 34,
   "id": "bbbd3e53-5354-4e35-9886-52ed0dfc12f0",
   "metadata": {},
   "outputs": [
    {
     "name": "stdout",
     "output_type": "stream",
     "text": [
      "\n",
      "Accuracy is higher than 0.6 so cancelling training!\n"
     ]
    }
   ],
   "source": [
    " print(\"\\nAccuracy is higher than 0.6 so cancelling training!\")"
   ]
  },
  {
   "cell_type": "code",
   "execution_count": 36,
   "id": "17c27a6b-1284-4a82-b77e-0fda1690a181",
   "metadata": {},
   "outputs": [
    {
     "name": "stdout",
     "output_type": "stream",
     "text": [
      "\n",
      "Accuracy is higher than 0.6 so cancelling training!\n"
     ]
    }
   ],
   "source": [
    " print('\\nAccuracy is higher than 0.6 so cancelling training!')"
   ]
  },
  {
   "cell_type": "code",
   "execution_count": null,
   "id": "04f286b2-bfee-4d6c-8289-3a3910d3f963",
   "metadata": {},
   "outputs": [],
   "source": []
  }
 ],
 "metadata": {
  "kernelspec": {
   "display_name": "Python 3 (ipykernel)",
   "language": "python",
   "name": "python3"
  },
  "language_info": {
   "codemirror_mode": {
    "name": "ipython",
    "version": 3
   },
   "file_extension": ".py",
   "mimetype": "text/x-python",
   "name": "python",
   "nbconvert_exporter": "python",
   "pygments_lexer": "ipython3",
   "version": "3.13.6"
  }
 },
 "nbformat": 4,
 "nbformat_minor": 5
}
