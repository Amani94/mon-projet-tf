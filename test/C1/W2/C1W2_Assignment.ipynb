{
 "cells": [
  {
   "cell_type": "code",
   "execution_count": 1,
   "id": "59c2167f-35b4-44ab-b394-88139151acb0",
   "metadata": {},
   "outputs": [],
   "source": [
    "import os\n",
    "import base64\n",
    "import tensorflow as tf\n",
    "import unittest"
   ]
  },
  {
   "cell_type": "code",
   "execution_count": 2,
   "id": "64d9442a-b50b-4db0-a2d2-fe5997460d1c",
   "metadata": {},
   "outputs": [],
   "source": [
    "# Get current working directory\n",
    "current_dir = os.getcwd()\n",
    "\n",
    "# Append data/mnist.npz to the previous path to get the full path\n",
    "#data_path = os.path.join(current_dir, \"data/mnist.npz\")\n",
    "\n",
    "data_dir = os.path.join(current_dir, \"data\")\n"
   ]
  },
  {
   "cell_type": "code",
   "execution_count": 3,
   "id": "3cde1ed9-61ea-4dd1-a093-9d275bf0974a",
   "metadata": {},
   "outputs": [
    {
     "name": "stdout",
     "output_type": "stream",
     "text": [
      "training_images is of type <class 'numpy.ndarray'>.\n",
      "training_labels is of type <class 'numpy.ndarray'>\n",
      "\n",
      "There are 60000 examples with shape (28, 28)\n"
     ]
    }
   ],
   "source": [
    "# Load data (discard test set)\n",
    "#(training_images, training_labels), _ = tf.keras.datasets.mnist.load_data(path=data_path)\n",
    "(training_images, training_labels), _ = tf.keras.datasets.mnist.load_data(\n",
    "    path=\"mnist.npz\",   # just filename\n",
    "   )\n",
    "print(f\"training_images is of type {type(training_images)}.\\ntraining_labels is of type {type(training_labels)}\\n\")\n",
    "\n",
    "# Inspect shape of the data\n",
    "data_shape = training_images.shape\n",
    "\n",
    "print(f\"There are {data_shape[0]} examples with shape ({data_shape[1]}, {data_shape[2]})\")"
   ]
  },
  {
   "cell_type": "code",
   "execution_count": 4,
   "id": "979e86a3-e6e6-4186-832b-bae5b51d2722",
   "metadata": {},
   "outputs": [
    {
     "data": {
      "text/plain": [
       "(60000, 28, 28)"
      ]
     },
     "execution_count": 4,
     "metadata": {},
     "output_type": "execute_result"
    }
   ],
   "source": [
    "data_shape\n"
   ]
  },
  {
   "cell_type": "code",
   "execution_count": 5,
   "id": "03a6bd05-4414-4cef-9a34-579db5fd3577",
   "metadata": {},
   "outputs": [],
   "source": [
    "# Normalize pixel values\n",
    "training_images = training_images / 255.0"
   ]
  },
  {
   "cell_type": "code",
   "execution_count": 6,
   "id": "09144f8d-6d7f-4b60-b0ad-db334977f007",
   "metadata": {},
   "outputs": [],
   "source": [
    "# GRADED FUNCTION: create_and_compile_model\n",
    "\n",
    "def create_and_compile_model():\n",
    "    \"\"\"Returns the compiled (but untrained) model.\n",
    "\n",
    "    Returns:\n",
    "        tf.keras.Model: The model that will be trained to predict predict handwriting digits.\n",
    "    \"\"\"\n",
    "\n",
    "    ### START CODE HERE ###\n",
    "        \n",
    "    # Define the model\n",
    "    model = tf.keras.models.Sequential([\n",
    "    tf.keras.Input(shape=(28,28)),\n",
    "    tf.keras.layers.Flatten(),\n",
    "    tf.keras.layers.Dense(512, activation=tf.nn.relu),\n",
    "    tf.keras.layers.Dense(10, activation=tf.nn.softmax)\n",
    "     ])\n",
    "\n",
    "    ### END CODE HERE ###\n",
    "    \n",
    "    # Compile the model\n",
    "    model.compile(\n",
    "\t\toptimizer='adam',\n",
    "\t\tloss='sparse_categorical_crossentropy',\n",
    "\t\tmetrics=['accuracy']\n",
    "\t)\n",
    "\n",
    "    return model"
   ]
  },
  {
   "cell_type": "code",
   "execution_count": 7,
   "id": "8cbeea61-6ee3-44c1-a896-6247cb1e417f",
   "metadata": {},
   "outputs": [],
   "source": [
    "# Save untrained model in a variable\n",
    "untrained_model = create_and_compile_model()\n",
    "\n",
    "# Check parameter count against a reference solution\n",
    "#unittests.parameter_count(untrained_model)"
   ]
  },
  {
   "cell_type": "code",
   "execution_count": 25,
   "id": "a555e7b0-d035-4a22-b19c-8f6cb47cec12",
   "metadata": {},
   "outputs": [
    {
     "name": "stdout",
     "output_type": "stream",
     "text": [
      "predictions have shape: (5, 10)\n"
     ]
    }
   ],
   "source": [
    "# Use it to predict the first 5 images in the train set\n",
    "#Setting verbose=False silences the output, so nothing is printed while predicting.\n",
    "#This takes the first 5 images from your training set. \n",
    "#: is slicing, so training_images[:5] is a small batch of 5 images instead of the whole dataset.\n",
    "predictions = untrained_model.predict(training_images[:5], verbose=False) \n",
    "#predictions = untrained_model.predict(training_images[:5])\n",
    "#predictions = model.predict(test_images)\n",
    "\n",
    "#predictions will be a NumPy array of shape (5, 10) if your model has 10 output neurons (for 10 digits).\n",
    "#Each row corresponds to one image, and each column corresponds to the predicted probability for a digit (0–9).\n",
    "\n",
    "print(f\"predictions have shape: {predictions.shape}\")"
   ]
  },
  {
   "cell_type": "code",
   "execution_count": 17,
   "id": "58fa39d6-b1a8-4a58-b48c-da0dea6ce3af",
   "metadata": {},
   "outputs": [],
   "source": [
    "# GRADED CLASS: EarlyStoppingCallback\n",
    "\n",
    "### START CODE HERE ###\n",
    "\n",
    "# Remember to inherit from the correct class\n",
    "class EarlyStoppingCallback(tf.keras.callbacks.Callback):\n",
    "\n",
    "    # Define the correct function signature for on_epoch_end method\n",
    "    def on_epoch_end(self, epoch, logs={}):\n",
    "        \n",
    "        # Check if the accuracy is greater or equal to 0.98\n",
    "        if (logs.get('accuracy') >= 0.98):\n",
    "                            \n",
    "            # Stop training once the above condition is met\n",
    "            self.model.stop_training = True\n",
    "\n",
    "            print(\"\\nReached 98% accuracy so cancelling training!\") \n",
    "\n",
    "### END CODE HERE ###"
   ]
  },
  {
   "cell_type": "code",
   "execution_count": 18,
   "id": "a85cfde3-9e75-4c47-998d-0744997b1b71",
   "metadata": {},
   "outputs": [
    {
     "name": "stdout",
     "output_type": "stream",
     "text": [
      "Epoch 1/10\n",
      "\u001b[1m1872/1875\u001b[0m \u001b[32m━━━━━━━━━━━━━━━━━━━\u001b[0m\u001b[37m━\u001b[0m \u001b[1m0s\u001b[0m 6ms/step - accuracy: 0.9925 - loss: 0.0237\n",
      "Reached 98% accuracy so cancelling training!\n",
      "\u001b[1m1875/1875\u001b[0m \u001b[32m━━━━━━━━━━━━━━━━━━━━\u001b[0m\u001b[37m\u001b[0m \u001b[1m11s\u001b[0m 6ms/step - accuracy: 0.9914 - loss: 0.0271\n"
     ]
    },
    {
     "data": {
      "text/plain": [
       "<keras.src.callbacks.history.History at 0x1f9c35e8050>"
      ]
     },
     "execution_count": 18,
     "metadata": {},
     "output_type": "execute_result"
    }
   ],
   "source": [
    "untrained_model.fit(training_images, training_labels, epochs=10, callbacks=[EarlyStoppingCallback()])\n",
    "#untrained_model.fit(training_images, training_labels, epochs=4)"
   ]
  },
  {
   "cell_type": "code",
   "execution_count": 19,
   "id": "509b893f-425a-422d-99ab-cbc060543099",
   "metadata": {},
   "outputs": [],
   "source": [
    "# GRADED FUNCTION: train_mnist\n",
    "\n",
    "def train_mnist(training_images, training_labels):\n",
    "    \"\"\"Trains a classifier of handwritten digits.\n",
    "\n",
    "    Args:\n",
    "        training_images (numpy.ndarray): The images of handwritten digits\n",
    "        training_labels (numpy.ndarray): The labels of each image\n",
    "\n",
    "    Returns:\n",
    "        tf.keras.callbacks.History : The training history.\n",
    "    \"\"\"\n",
    "\n",
    "    ### START CODE HERE ###\n",
    "\n",
    "    # Create a compiled (but untrained) version of the model\n",
    "    # Hint: Remember you already coded a function that does this!\n",
    "    model = create_and_compile_model()\n",
    "    \n",
    "    # Fit the model for 10 epochs adding the callbacks and save the training history\n",
    "    history = model.fit(training_images, training_labels, epochs=10, callbacks=[EarlyStoppingCallback()])\n",
    "\n",
    "    ### END CODE HERE ###\n",
    "\n",
    "    return history"
   ]
  },
  {
   "cell_type": "code",
   "execution_count": 20,
   "id": "85486457-a998-4e06-a827-dace64187b61",
   "metadata": {},
   "outputs": [
    {
     "name": "stdout",
     "output_type": "stream",
     "text": [
      "Epoch 1/10\n",
      "\u001b[1m1875/1875\u001b[0m \u001b[32m━━━━━━━━━━━━━━━━━━━━\u001b[0m\u001b[37m\u001b[0m \u001b[1m12s\u001b[0m 6ms/step - accuracy: 0.9404 - loss: 0.2037\n",
      "Epoch 2/10\n",
      "\u001b[1m1875/1875\u001b[0m \u001b[32m━━━━━━━━━━━━━━━━━━━━\u001b[0m\u001b[37m\u001b[0m \u001b[1m10s\u001b[0m 5ms/step - accuracy: 0.9756 - loss: 0.0811\n",
      "Epoch 3/10\n",
      "\u001b[1m1873/1875\u001b[0m \u001b[32m━━━━━━━━━━━━━━━━━━━\u001b[0m\u001b[37m━\u001b[0m \u001b[1m0s\u001b[0m 6ms/step - accuracy: 0.9857 - loss: 0.0468\n",
      "Reached 98% accuracy so cancelling training!\n",
      "\u001b[1m1875/1875\u001b[0m \u001b[32m━━━━━━━━━━━━━━━━━━━━\u001b[0m\u001b[37m\u001b[0m \u001b[1m11s\u001b[0m 6ms/step - accuracy: 0.9840 - loss: 0.0506\n"
     ]
    }
   ],
   "source": [
    "training_history = train_mnist(training_images, training_labels)"
   ]
  },
  {
   "cell_type": "code",
   "execution_count": 21,
   "id": "af7dc0af-407c-44a8-977c-c6aca0af46b7",
   "metadata": {},
   "outputs": [
    {
     "data": {
      "image/png": "[encoded data removed]",
      "text/plain": [
       "<Figure size 640x480 with 1 Axes>"
      ]
     },
     "metadata": {},
     "output_type": "display_data"
    }
   ],
   "source": [
    "import matplotlib.pyplot as plt\n",
    "\n",
    "plt.plot(training_history.history['accuracy'])\n",
    "plt.title(\"Training Accuracy\")\n",
    "plt.xlabel(\"Epoch\")\n",
    "plt.ylabel(\"Accuracy\")\n",
    "plt.show()"
   ]
  },
  {
   "cell_type": "code",
   "execution_count": 23,
   "id": "49d22f32-cd47-42d9-8560-6709ac066844",
   "metadata": {},
   "outputs": [
    {
     "data": {
      "text/plain": [
       "{'accuracy': [0.9404000043869019, 0.975600004196167, 0.9840499758720398],\n",
       " 'loss': [0.2037305235862732, 0.08112315088510513, 0.05060727521777153]}"
      ]
     },
     "execution_count": 23,
     "metadata": {},
     "output_type": "execute_result"
    }
   ],
   "source": [
    "training_history.history"
   ]
  },
  {
   "cell_type": "code",
   "execution_count": null,
   "id": "4358c3e0-afa6-4234-82ed-c606c71d9d47",
   "metadata": {},
   "outputs": [],
   "source": []
  }
 ],
 "metadata": {
  "kernelspec": {
   "display_name": "Python 3 (ipykernel)",
   "language": "python",
   "name": "python3"
  },
  "language_info": {
   "codemirror_mode": {
    "name": "ipython",
    "version": 3
   },
   "file_extension": ".py",
   "mimetype": "text/x-python",
   "name": "python",
   "nbconvert_exporter": "python",
   "pygments_lexer": "ipython3",
   "version": "3.13.6"
  }
 },
 "nbformat": 4,
 "nbformat_minor": 5
}
